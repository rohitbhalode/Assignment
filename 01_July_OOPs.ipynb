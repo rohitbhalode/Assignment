{
 "cells": [
  {
   "cell_type": "markdown",
   "id": "5bd89ea5",
   "metadata": {},
   "source": [
    "# 01_July_OOPs Assignment"
   ]
  },
  {
   "cell_type": "markdown",
   "id": "1d319daa",
   "metadata": {},
   "source": [
    "1. What is the primary goal of Object-Oriented Programming (OOP)?\n",
    "\n",
    "Ans: The primary goal of Object-Oriented Programming (OOP) is to organize and structure code in a way that models real-world entities, making the development and maintenance of software more manageable and efficient. \n"
   ]
  },
  {
   "cell_type": "markdown",
   "id": "b884f01f",
   "metadata": {},
   "source": [
    "2. What is an object in Python?\n",
    "Ans: An Object is an instance of a Class. A class is like a blueprint while an instance is a copy of the class with actual values. Python is an object-oriented programming language that stresses objects i.e. it mainly emphasizes functions. Python Objects are basically an encapsulation of data variables and methods acting on that data into a single entity."
   ]
  },
  {
   "cell_type": "markdown",
   "id": "4c4c0f70",
   "metadata": {},
   "source": [
    "3. What is a class in Python?\n",
    "Ans:In Python, a class is a blueprint or template for creating objects. It defines the structure, attributes, and behaviors that objects of that class will have. A class acts as a user-defined data type and serves as a logical container for related data and functions (methods) that operate on that data. Once a class is defined, you can create multiple instances (objects) of that class, each with its own unique state and behavior. "
   ]
  },
  {
   "cell_type": "markdown",
   "id": "9a5df4f6",
   "metadata": {},
   "source": [
    "4. What are attributes and methods in a class?\n",
    "Ans: \n",
    "Attributes: Attributes are variables that belong to the class and represent the data associated with the class. They store the state or characteristics of the objects created from the class.\n",
    "\n",
    "Methods: Methods are functions defined within the class that define the behavior or actions that objects of the class can perform. They operate on the class's attributes and may interact with the object's state."
   ]
  },
  {
   "cell_type": "markdown",
   "id": "26323be5",
   "metadata": {},
   "source": [
    "5. What is the difference between class variables and instance variables in Python?\n",
    "Ans : \n",
    "Class Variables:\n",
    "                Class variables are defined within the class but outside of any methods.They are shared by all instances (objects) of the class.Class variables are typically used to store data that is common to all objects of the class.Any modification to a class variable affects all instances of the class.To access a class variable, you can use the class name or the instance name (though accessing through the class name is more common).\n",
    "                \n",
    "Instance Variables:\n",
    "Instance variables are defined within the class's methods, usually within the constructor (__init__) method.Each instance (object) of the class has its own copy of instance variables.Instance variables are used to store data that is unique to each object of the class.Modifying an instance variable only affects the specific instance to which it belongs, and it doesn't affect other instances of the class.To access an instance variable, you can use the instance name (object name).                "
   ]
  },
  {
   "cell_type": "markdown",
   "id": "65621719",
   "metadata": {},
   "source": [
    "6. What is the purpose of the self parameter in Python class methods?\n",
    "Ans: The primary purpose of the self parameter is to access and manipulate the instance variables (attributes) of the object within the class methods. It allows the method to interact with the specific instance of the class and its unique data.It is a convention and not a keyword, but it is widely used and recommended to use self as the first parameter name in instance methods (regular methods) within a class "
   ]
  },
  {
   "cell_type": "markdown",
   "id": "5b66b78c",
   "metadata": {},
   "source": [
    "7. For a library management system, you have to design the \"Book\" class with OOP\n",
    "principles in mind. The “Book” class will have following attributes:\n",
    "a. title: Represents the title of the book.\n",
    "b. author: Represents the author(s) of the book.\n",
    "c. isbn: Represents the ISBN (International Standard Book Number) of the book.\n",
    "d. publication_year: Represents the year of publication of the book.\n",
    "e. available_copies: Represents the number of copies available for checkout.\n",
    "The class will also include the following methods:\n",
    "a. check_out(self): Decrements the available copies by one if there are copies\n",
    "available for checkout.\n",
    "b. return_book(self): Increments the available copies by one when a book is\n",
    "returned.\n",
    "c. display_book_info(self): Displays the information about the book, including its\n",
    "attributes and the number of available copies."
   ]
  },
  {
   "cell_type": "code",
   "execution_count": 3,
   "id": "0e49cf87",
   "metadata": {},
   "outputs": [],
   "source": [
    "class Book:\n",
    "    def __init__(title,author,isbn,publication_year,available_copies):\n",
    "        self.title=title\n",
    "        self.author=author\n",
    "        self.isbn=isbn\n",
    "        self.publication_year=publication_year\n",
    "        self.available_copies=available_copies\n",
    "    def check_out(self):\n",
    "        if self.available_copies > 0:\n",
    "            self.available_copies -= 1\n",
    "            print(f\"{self.title} has been checked out. Available copies: {self.available_copies}\")\n",
    "        else:\n",
    "            print(f\"Sorry, {self.title} is currently not available for checkout.\")\n",
    "    def return_book(self):\n",
    "        self.available_copies+=1\n",
    "        print(f\"{self.title} has been returned. Available copies: {self.available_copies}\")\n",
    "    def display_book_info(self):\n",
    "        print(\"The Title of book: \",self.title)\n",
    "        print(\"Author: \",self.author)\n",
    "        print(\"ISBN : \",self.isbn)\n",
    "        print(\"Publication Year : \" ,self.publication_year)\n",
    "        print(\"Available Copies :\" ,self.available_copies)"
   ]
  },
  {
   "cell_type": "markdown",
   "id": "fe5a9b31",
   "metadata": {},
   "source": [
    "8. For a ticket booking system, you have to design the \"Ticket\" class with OOP\n",
    "principles in mind. The “Ticket” class should have the following attributes:\n",
    "a. ticket_id: Represents the unique identifier for the ticket.\n",
    "b. event_name: Represents the name of the event.\n",
    "c. event_date: Represents the date of the event.\n",
    "d. venue: Represents the venue of the event.\n",
    "e. seat_number: Represents the seat number associated with the ticket.\n",
    "f. price: Represents the price of the ticket.\n",
    "g. is_reserved: Represents the reservation status of the ticket.\n",
    "The class also includes the following methods:\n",
    "a. reserve_ticket(self): Marks the ticket as reserved if it is not already reserved.\n",
    "b. cancel_reservation(self): Cancels the reservation of the ticket if it is already\n",
    "reserved.\n",
    "c. display_ticket_info(self): Displays the information about the ticket, including its\n",
    "attributes and reservation status."
   ]
  },
  {
   "cell_type": "code",
   "execution_count": 4,
   "id": "18b214b0",
   "metadata": {},
   "outputs": [],
   "source": [
    "class Ticket:\n",
    "    def __init__(self, ticket_id, event_name, event_date, venue, seat_number, price):\n",
    "        self.ticket_id = ticket_id\n",
    "        self.event_name = event_name\n",
    "        self.event_date = event_date\n",
    "        self.venue = venue\n",
    "        self.seat_number = seat_number\n",
    "        self.price = price\n",
    "        self.is_reserved = False\n",
    "\n",
    "    def reserve_ticket(self):\n",
    "        if not self.is_reserved:\n",
    "            self.is_reserved = True\n",
    "            print(f\"Ticket {self.ticket_id} has been reserved.\")\n",
    "        else:\n",
    "            print(f\"Ticket {self.ticket_id} is already reserved.\")\n",
    "\n",
    "    def cancel_reservation(self):\n",
    "        if self.is_reserved:\n",
    "            self.is_reserved = False\n",
    "            print(f\"Reservation for Ticket {self.ticket_id} has been canceled.\")\n",
    "        else:\n",
    "            print(f\"Ticket {self.ticket_id} is not currently reserved.\")\n",
    "\n",
    "    def display_ticket_info(self):\n",
    "        print(f\"Ticket ID: {self.ticket_id}\")\n",
    "        print(f\"Event Name: {self.event_name}\")\n",
    "        print(f\"Event Date: {self.event_date}\")\n",
    "        print(f\"Venue: {self.venue}\")\n",
    "        print(f\"Seat Number: {self.seat_number}\")\n",
    "        print(f\"Price: {self.price}\")\n",
    "        print(f\"Reservation Status: {'Reserved' if self.is_reserved else 'Not Reserved'}\")"
   ]
  },
  {
   "cell_type": "markdown",
   "id": "5bcc7761",
   "metadata": {},
   "source": [
    "9. You are creating a shopping cart for an e-commerce website. Using OOP to model\n",
    "the \"ShoppingCart\" functionality the class should contain following attributes and\n",
    "methods:\n",
    "a. items: Represents the list of items in the shopping cart.\n",
    "The class also includes the following methods:\n",
    "a. add_item(self, item): Adds an item to the shopping cart by appending it to the\n",
    "list of items.\n",
    "b. remove_item(self, item): Removes an item from the shopping cart if it exists in\n",
    "the list.\n",
    "c. view_cart(self): Displays the items currently present in the shopping cart.\n",
    "d. clear_cart(self): Clears all items from the shopping cart by reassigning an\n",
    "empty list to the items attribute."
   ]
  },
  {
   "cell_type": "code",
   "execution_count": 5,
   "id": "44513812",
   "metadata": {},
   "outputs": [],
   "source": [
    "class ShoppingCart:\n",
    "    def __init__(self):\n",
    "        self.items = []\n",
    "\n",
    "    def add_item(self, item):\n",
    "        self.items.append(item)\n",
    "        print(f\"{item} has been added to the shopping cart.\")\n",
    "\n",
    "    def remove_item(self, item):\n",
    "        if item in self.items:\n",
    "            self.items.remove(item)\n",
    "            print(f\"{item} has been removed from the shopping cart.\")\n",
    "        else:\n",
    "            print(f\"{item} is not in the shopping cart.\")\n",
    "\n",
    "    def view_cart(self):\n",
    "        if self.items:\n",
    "            print(\"Items in the shopping cart:\")\n",
    "            for item in self.items:\n",
    "                print(item)\n",
    "        else:\n",
    "            print(\"The shopping cart is empty.\")\n",
    "\n",
    "    def clear_cart(self):\n",
    "        self.items = []\n",
    "        print(\"The shopping cart has been cleared.\")"
   ]
  },
  {
   "cell_type": "markdown",
   "id": "a8a78312",
   "metadata": {},
   "source": [
    "10. Imagine a school management system. You have to design the \"Student\" class using\n",
    "OOP concepts.The “Student” class has the following attributes:\n",
    "a. name: Represents the name of the student.\n",
    "b. age: Represents the age of the student.\n",
    "c. grade: Represents the grade or class of the student.\n",
    "d. student_id: Represents the unique identifier for the student.\n",
    "e. attendance: Represents the attendance record of the student.\n",
    "The class should also include the following methods:\n",
    "a. update_attendance(self, date, status): Updates the attendance record of the\n",
    "student for a given date with the provided status (e.g., present or absent).\n",
    "b. get_attendance(self): Returns the attendance record of the student.\n",
    "c. get_average_attendance(self): Calculates and returns the average\n",
    "attendance percentage of the student based on their attendance record."
   ]
  },
  {
   "cell_type": "code",
   "execution_count": 6,
   "id": "2b061dde",
   "metadata": {},
   "outputs": [],
   "source": [
    "class Student:\n",
    "    def __init__(self, name, age, grade, student_id):\n",
    "        self.name = name\n",
    "        self.age = age\n",
    "        self.grade = grade\n",
    "        self.student_id = student_id\n",
    "        self.attendance = {}\n",
    "\n",
    "    def update_attendance(self, date, status):\n",
    "        self.attendance[date] = status\n",
    "\n",
    "    def get_attendance(self):\n",
    "        return self.attendance\n",
    "\n",
    "    def get_average_attendance(self):\n",
    "        if not self.attendance:\n",
    "            return 0.0\n",
    "\n",
    "        total_days = len(self.attendance)\n",
    "        present_days = sum(status == 'present' for status in self.attendance.values())\n",
    "        average_attendance = (present_days / total_days) * 100\n",
    "        return average_attendance\n"
   ]
  },
  {
   "cell_type": "code",
   "execution_count": null,
   "id": "b2fcfd16",
   "metadata": {},
   "outputs": [],
   "source": []
  },
  {
   "cell_type": "code",
   "execution_count": null,
   "id": "827f8ae4",
   "metadata": {},
   "outputs": [],
   "source": []
  }
 ],
 "metadata": {
  "kernelspec": {
   "display_name": "Python 3 (ipykernel)",
   "language": "python",
   "name": "python3"
  },
  "language_info": {
   "codemirror_mode": {
    "name": "ipython",
    "version": 3
   },
   "file_extension": ".py",
   "mimetype": "text/x-python",
   "name": "python",
   "nbconvert_exporter": "python",
   "pygments_lexer": "ipython3",
   "version": "3.10.9"
  }
 },
 "nbformat": 4,
 "nbformat_minor": 5
}
