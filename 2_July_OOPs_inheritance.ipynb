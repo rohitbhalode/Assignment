{
 "cells": [
  {
   "cell_type": "markdown",
   "id": "499754e2",
   "metadata": {},
   "source": [
    "# 2_July_OOPs_inheritance"
   ]
  },
  {
   "cell_type": "markdown",
   "id": "cf22959f",
   "metadata": {},
   "source": [
    "**1. Explain what inheritance is in object-oriented programming and why it is used.**\n",
    "\n",
    "Ans: Inheritance is a fundamental concept in object-oriented programming (OOP) that allows a class (known as the subclass or derived class) to inherit properties and behaviors from another class (known as the superclass or base class). It enables code reusability, promotes a hierarchical organization of classes, and facilitates the creation of a more modular and maintainable codebase.\n",
    "        When a subclass inherits from a superclass, it automatically gains access to all the public and protected attributes (variables and methods) of the superclass. This means that the subclass can use and extend the functionality provided by the superclass without having to re-implement the same code."
   ]
  },
  {
   "cell_type": "markdown",
   "id": "430b3471",
   "metadata": {},
   "source": [
    "**2. Discuss the concept of single inheritance and multiple inheritance, highlighting their differences and advantages.**\n",
    "\n",
    "Ans: Single inheritance is a type of inheritance in object-oriented programming where a class can inherit from only one superclass. In other words, a subclass can have only one direct parent class, and it inherits all the properties and behaviors of that parent class. This is the most common form of inheritance, and it forms a linear hierarchy of classes.\n",
    "    Multiple inheritance is a type of inheritance in object-oriented programming where a class can inherit from multiple superclasses. This means that a subclass can have more than one direct parent class, and it inherits properties and behaviors from all of them.\n",
    "     The primary difference is the number of superclasses a subclass can inherit from. Single inheritance allows for only one superclass, while multiple inheritance allows for multiple superclasses.Multiple inheritance offers better code reusability, as classes can draw functionality from multiple sources.The diamond problem is a potential issue that can arise in multiple inheritance when a subclass inherits from two or more superclasses that have a common ancestor."
   ]
  },
  {
   "cell_type": "markdown",
   "id": "658fdbc2",
   "metadata": {},
   "source": [
    "**3. Explain the terms \"base class\" and \"derived class\" in the context of inheritance.**\n",
    "\n",
    "Ans : In the context of inheritance in object-oriented programming, \"base class\" and \"derived class\" are terms used to describe the relationship between two classes: the superclass (base class) and the subclass (derived class)."
   ]
  },
  {
   "cell_type": "markdown",
   "id": "bdf5a91a",
   "metadata": {},
   "source": [
    "**4. What is the significance of the \"protected\" access modifier in inheritance? How does it differ from \"private\" and \"public\" modifiers?**\n",
    "\n",
    "Ans :The protected access modifier is denoted by a single underscore (e.g., _protected_var or _protected_method). In Python, it is a convention rather than a strict access modifier since Python does not have strict enforcement of access control.\n",
    "In Python, protected members are intended to be accessed within the class and its subclasses. Although it is still possible to access protected members from outside the class, it is considered a best practice to treat them as non-public members and refrain from direct access\n",
    "            The protected access modifier strikes a balance between strict encapsulation (private members) and full visibility (public members), making it valuable for creating well-structured and maintainable inheritance hierarchies. However, it's essential to keep in mind that in languages like Python, protected members are more of a naming convention, and their access can still be overridden if not used carefully."
   ]
  },
  {
   "cell_type": "markdown",
   "id": "fe4649d9",
   "metadata": {},
   "source": [
    "**5. What is the purpose of the \"super\" keyword in inheritance? Provide an example.**\n",
    "\n",
    "Ans :The \"super\" keyword in inheritance is used to call a method or access an attribute from the superclass (base class) within a subclass (derived class). It is particularly helpful when a subclass overrides a method or constructor of its superclass and wants to invoke the superclass's implementation in addition to its own modifications.This promotes code reusability and helps avoid duplicating code in the derived class.\n",
    "**for Example**"
   ]
  },
  {
   "cell_type": "code",
   "execution_count": 1,
   "id": "f0f24750",
   "metadata": {},
   "outputs": [],
   "source": [
    "class Vehicle:\n",
    "    def __init__(self, brand):\n",
    "        self.brand = brand\n",
    "\n",
    "    def start(self):\n",
    "        print(\"Vehicle is starting.\")\n",
    "\n",
    "class Car(Vehicle):\n",
    "    def __init__(self, brand, model):\n",
    "        super().__init__(brand)\n",
    "        self.model = model\n",
    "\n",
    "    def start(self):\n",
    "        super().start()\n",
    "        print(f\"Car {self.brand} {self.model} is starting.\")\n"
   ]
  },
  {
   "cell_type": "markdown",
   "id": "96bb6b6c",
   "metadata": {},
   "source": [
    "**6. Create a base class called \"Vehicle\" with attributes like \"make\", \"model\", and \"year\".\n",
    "Then, create a derived class called \"Car\" that inherits from \"Vehicle\" and adds an\n",
    "attribute called \"fuel_type\". Implement appropriate methods in both classes.**"
   ]
  },
  {
   "cell_type": "code",
   "execution_count": 4,
   "id": "a60a6604",
   "metadata": {},
   "outputs": [
    {
     "name": "stdout",
     "output_type": "stream",
     "text": [
      "Make: Toyota, Model: Camry, Year: 2022\n",
      "Fuel Type: Gasoline\n"
     ]
    }
   ],
   "source": [
    "class Vehicle:\n",
    "    def __init__(self,make,model,year):\n",
    "        self.make=make\n",
    "        self.model=model\n",
    "        self.year=year\n",
    "    def display_info(self):\n",
    "        print(f\"Make: {self.make}, Model: {self.model}, Year: {self.year}\")\n",
    "    \n",
    "class Car(Vehicle):\n",
    "    def __init__(self,make,model,year,fuel_type):\n",
    "        super().__init__(make,model,year)\n",
    "        self.fuel_type=fuel_type\n",
    "    \n",
    "    def display_info(self):\n",
    "        super().display_info()\n",
    "        print(f\"Fuel Type: {self.fuel_type}\")\n",
    "        \n",
    "Toyota = Car(\"Toyota\", \"Camry\", 2022, \"Gasoline\")\n",
    "Toyota.display_info()\n",
    "    "
   ]
  },
  {
   "cell_type": "markdown",
   "id": "6b4a555b",
   "metadata": {},
   "source": [
    "**7. Create a base class called \"Employee\" with attributes like \"name\" and \"salary.\"\n",
    "Derive two classes, \"Manager\" and \"Developer,\" from \"Employee.\" Add an additional\n",
    "attribute called \"department\" for the \"Manager\" class and \"programming_language\"\n",
    "for the \"Developer\" class.**"
   ]
  },
  {
   "cell_type": "code",
   "execution_count": 8,
   "id": "c2b5a7b2",
   "metadata": {},
   "outputs": [
    {
     "name": "stdout",
     "output_type": "stream",
     "text": [
      "Name: Rohit, Salary: 80000\n",
      "Department: Human Resources\n",
      "Name: Umesh, Salary: 75000\n",
      "Programming Language: Python\n"
     ]
    }
   ],
   "source": [
    "class Employee:\n",
    "    def __init__(self,name,salary):\n",
    "        self.name=name\n",
    "        self.salary=salary\n",
    "        \n",
    "    def display_info(self):\n",
    "        print(f\"Name: {self.name}, Salary: {self.salary}\")\n",
    "    \n",
    "class Manager(Employee):\n",
    "    def __init__(self,name,salary,department):\n",
    "        super().__init__(name,salary)\n",
    "        self.department=department\n",
    "        \n",
    "    def display_info(self):\n",
    "        super().display_info()\n",
    "        print(f\"Department: {self.department}\")\n",
    "\n",
    "        \n",
    "class Developer(Employee):\n",
    "    def __init__(self,name,salary,programming_language):\n",
    "        super().__init__(name,salary)\n",
    "        self.programming_language=programming_language\n",
    "    \n",
    "    def display_info(self):\n",
    "        super().display_info()\n",
    "        print(f\"Programming Language: {self.programming_language}\")\n",
    "        \n",
    "Rohit_manager = Manager(\"Rohit\", 80000, \"Human Resources\")\n",
    "Umesh_developer = Developer(\"Umesh\", 75000, \"Python\")\n",
    "Rohit_manager.display_info()\n",
    "Umesh_developer.display_info()\n",
    "    "
   ]
  },
  {
   "cell_type": "markdown",
   "id": "bcd028e0",
   "metadata": {},
   "source": [
    "**8. Design a base class called \"Shape\" with attributes like \"colour\" and \"border_width.\"\n",
    "Create derived classes, \"Rectangle\" and \"Circle,\" that inherit from \"Shape\" and add\n",
    "specific attributes like \"length\" and \"width\" for the \"Rectangle\" class and \"radius\" for\n",
    "the \"Circle\" class.**"
   ]
  },
  {
   "cell_type": "code",
   "execution_count": 9,
   "id": "8f08b96f",
   "metadata": {},
   "outputs": [],
   "source": [
    "class Shape:\n",
    "    def __init__(self,colour,border_width):\n",
    "        self.colour=colour\n",
    "        self.border_width=border_width\n",
    "    \n",
    "class Rectangle(Shape):\n",
    "    def __init__(self,colour,border_width,length,width):\n",
    "        super().__init__(colour,border_width)\n",
    "        self.length=length\n",
    "        self.width=width\n",
    "        \n",
    "class Circle(Shape):\n",
    "    def __init__(self,colour,border_width,radius):\n",
    "        super().__init__(colour,border_width)\n",
    "        self.radius=radius"
   ]
  },
  {
   "cell_type": "markdown",
   "id": "b5905863",
   "metadata": {},
   "source": [
    "9. Create a base class called \"Device\" with attributes like \"brand\" and \"model.\" Derive\n",
    "two classes, \"Phone\" and \"Tablet,\" from \"Device.\" Add specific attributes like\n",
    "\"screen_size\" for the \"Phone\" class and \"battery_capacity\" for the \"Tablet\" class."
   ]
  },
  {
   "cell_type": "code",
   "execution_count": 10,
   "id": "1bad1e73",
   "metadata": {},
   "outputs": [],
   "source": [
    "class Device:\n",
    "    def __init__(self, brand, model):\n",
    "        self.brand = brand\n",
    "        self.model = model\n",
    "\n",
    "    def display_info(self):\n",
    "        print(f\"Brand: {self.brand}, Model: {self.model}\")\n",
    "\n",
    "\n",
    "class Phone(Device):\n",
    "    def __init__(self, brand, model, screen_size):\n",
    "        super().__init__(brand, model)\n",
    "        self.screen_size = screen_size\n",
    "\n",
    "    def display_info(self):\n",
    "        super().display_info()\n",
    "        print(f\"Screen Size: {self.screen_size}\")\n",
    "\n",
    "\n",
    "class Tablet(Device):\n",
    "    def __init__(self, brand, model, battery_capacity):\n",
    "        super().__init__(brand, model)\n",
    "        self.battery_capacity = battery_capacity\n",
    "\n",
    "    def display_info(self):\n",
    "        super().display_info()\n",
    "        print(f\"Battery Capacity: {self.battery_capacity}\")\n",
    "\n",
    "\n",
    "\n",
    "phone_instance = Phone(\"Samsung\", \"Galaxy S21\", \"6.2 inches\")\n",
    "tablet_instance = Tablet(\"Apple\", \"iPad Pro\", \"10,000 mAh\")\n",
    "\n",
    "\n"
   ]
  },
  {
   "cell_type": "markdown",
   "id": "9d35ca3d",
   "metadata": {},
   "source": [
    "**10. Create a base class called \"BankAccount\" with attributes like \"account_number\" and\n",
    "\"balance.\" Derive two classes, \"SavingsAccount\" and \"CheckingAccount,\" from\n",
    "\"BankAccount.\" Add specific methods like \"calculate_interest\" for the\n",
    "\"SavingsAccount\" class and \"deduct_fees\" for the \"CheckingAccount\" class.**"
   ]
  },
  {
   "cell_type": "code",
   "execution_count": 11,
   "id": "2305280a",
   "metadata": {},
   "outputs": [
    {
     "name": "stdout",
     "output_type": "stream",
     "text": [
      "Account Number: 123456789, Balance: $1000.00\n",
      "Account Number: 987654321, Balance: $2000.00\n",
      "Account Number: 123456789, Balance: $1025.00\n",
      "Account Number: 987654321, Balance: $1990.00\n"
     ]
    }
   ],
   "source": [
    "class BankAccount:\n",
    "    def __init__(self, account_number, balance):\n",
    "        self.account_number = account_number\n",
    "        self.balance = balance\n",
    "\n",
    "    def display_info(self):\n",
    "        print(f\"Account Number: {self.account_number}, Balance: ${self.balance:.2f}\")\n",
    "\n",
    "\n",
    "class SavingsAccount(BankAccount):\n",
    "    def __init__(self, account_number, balance, interest_rate):\n",
    "        super().__init__(account_number, balance)\n",
    "        self.interest_rate = interest_rate\n",
    "\n",
    "    def calculate_interest(self):\n",
    "        interest = self.balance * (self.interest_rate / 100)\n",
    "        self.balance += interest\n",
    "\n",
    "\n",
    "class CheckingAccount(BankAccount):\n",
    "    def __init__(self, account_number, balance, fee_amount):\n",
    "        super().__init__(account_number, balance)\n",
    "        self.fee_amount = fee_amount\n",
    "\n",
    "    def deduct_fees(self):\n",
    "        self.balance -= self.fee_amount\n",
    "\n",
    "\n",
    "\n",
    "savings_account_instance = SavingsAccount(\"123456789\", 1000, 2.5)\n",
    "checking_account_instance = CheckingAccount(\"987654321\", 2000, 10)\n",
    "\n",
    "\n",
    "savings_account_instance.display_info()\n",
    "checking_account_instance.display_info()\n",
    "\n",
    "savings_account_instance.calculate_interest()\n",
    "checking_account_instance.deduct_fees()\n",
    "\n",
    "savings_account_instance.display_info()\n",
    "checking_account_instance.display_info()\n"
   ]
  }
 ],
 "metadata": {
  "kernelspec": {
   "display_name": "Python 3 (ipykernel)",
   "language": "python",
   "name": "python3"
  },
  "language_info": {
   "codemirror_mode": {
    "name": "ipython",
    "version": 3
   },
   "file_extension": ".py",
   "mimetype": "text/x-python",
   "name": "python",
   "nbconvert_exporter": "python",
   "pygments_lexer": "ipython3",
   "version": "3.10.9"
  }
 },
 "nbformat": 4,
 "nbformat_minor": 5
}
